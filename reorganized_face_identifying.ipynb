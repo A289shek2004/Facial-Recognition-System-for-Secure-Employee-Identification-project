{
  "cells": [
    {
      "cell_type": "code",
      "execution_count": 16,
      "id": "48bdae70",
      "metadata": {
        "id": "48bdae70"
      },
      "outputs": [],
      "source": [
        "import pandas as pd"
      ]
    },
    {
      "cell_type": "markdown",
      "id": "2bdf61e2",
      "metadata": {
        "id": "2bdf61e2"
      },
      "source": [
        "# 🧾 Step 1: Basic Data Overview"
      ]
    },
    {
      "cell_type": "code",
      "execution_count": 17,
      "id": "3-4IqvXW5LQ9",
      "metadata": {
        "colab": {
          "base_uri": "https://localhost:8080/"
        },
        "id": "3-4IqvXW5LQ9",
        "outputId": "06a52c7f-3e95-4b2b-ebda-b97bb1650689"
      },
      "outputs": [
        {
          "output_type": "stream",
          "name": "stdout",
          "text": [
            "          0         1         2         3         4         5         6  \\\n",
            "0 -2.061987  0.581320 -0.249115 -0.631340 -1.359899  0.751619 -0.029364   \n",
            "1 -0.796838 -0.667228 -0.107889  0.019755 -0.686348  0.912779  0.463412   \n",
            "2  5.376779  1.142695  2.543111 -2.727212  0.272785 -0.972187  1.111221   \n",
            "3  7.029235  1.242883 -2.628079  1.224479 -1.141370 -1.620647  0.205890   \n",
            "4  5.484822  6.752706 -4.291114  1.740412 -1.603087 -1.075175  1.919936   \n",
            "\n",
            "          7         8         9  ...       141       142       143       144  \\\n",
            "0  1.610456  0.341402  1.286709  ... -0.356844 -0.016488 -0.228473  0.258134   \n",
            "1 -0.238308 -0.294023  0.215470  ... -0.037243 -0.012105 -0.351285 -0.034968   \n",
            "2  1.645502 -2.556968 -0.648781  ...  0.157441 -0.333875 -0.303720 -0.085975   \n",
            "3  1.567561  0.736200  0.010782  ...  0.051040 -0.068796  0.141841 -0.227999   \n",
            "4 -0.197615  1.030596  1.451936  ...  0.034412  0.265141  0.226000  0.032064   \n",
            "\n",
            "        145       146       147       148       149  Label  \n",
            "0  0.046834  0.135742 -0.068297  0.022038  0.090003      1  \n",
            "1  0.192314 -0.015406 -0.089117  0.023588 -0.019998      1  \n",
            "2  0.171346  0.128577 -0.118262  0.045881 -0.190158      1  \n",
            "3  0.046044  0.013643 -0.125893  0.146396  0.013320      1  \n",
            "4 -0.113654  0.059126 -0.216803  0.025849  0.020456      1  \n",
            "\n",
            "[5 rows x 151 columns]\n",
            "<class 'pandas.core.frame.DataFrame'>\n",
            "RangeIndex: 190 entries, 0 to 189\n",
            "Columns: 151 entries, 0 to Label\n",
            "dtypes: float64(150), int64(1)\n",
            "memory usage: 224.3 KB\n",
            "None\n"
          ]
        }
      ],
      "source": [
        "# Basic info\n",
        "# Display the shape of the dataset\n",
        "df = pd.read_csv(\"/content/lfw_arnie_nonarnie.csv\")\n",
        "# Show basic info\n",
        "print(df.head())\n",
        "print(df.info())"
      ]
    },
    {
      "cell_type": "markdown",
      "id": "52080bbc",
      "metadata": {
        "id": "52080bbc"
      },
      "source": [
        "# 📦 Step 2: Import Required Libraries"
      ]
    },
    {
      "cell_type": "code",
      "execution_count": 18,
      "id": "ffQk_RMj5Uci",
      "metadata": {
        "id": "ffQk_RMj5Uci"
      },
      "outputs": [],
      "source": [
        "# Splitting the dataset into training and testing sets\n",
        "from sklearn.model_selection import train_test_split\n",
        "from sklearn.preprocessing import StandardScaler\n",
        "\n",
        "X = df.drop('Label', axis=1)\n",
        "y = df['Label']\n",
        "\n",
        "# Normalize features\n",
        "scaler = StandardScaler()\n",
        "X_scaled = scaler.fit_transform(X)\n",
        "\n",
        "# Split\n",
        "# Splitting the dataset into training and testing sets\n",
        "X_train, X_test, y_train, y_test = train_test_split(X_scaled, y, test_size=0.2, random_state=42)"
      ]
    },
    {
      "cell_type": "code",
      "execution_count": 19,
      "id": "Yh8_vt555hp5",
      "metadata": {
        "colab": {
          "base_uri": "https://localhost:8080/"
        },
        "id": "Yh8_vt555hp5",
        "outputId": "ed005492-7d9c-401c-94ce-824cf819d17a"
      },
      "outputs": [
        {
          "output_type": "stream",
          "name": "stdout",
          "text": [
            "              precision    recall  f1-score   support\n",
            "\n",
            "           0       0.81      1.00      0.90        30\n",
            "           1       1.00      0.12      0.22         8\n",
            "\n",
            "    accuracy                           0.82        38\n",
            "   macro avg       0.91      0.56      0.56        38\n",
            "weighted avg       0.85      0.82      0.75        38\n",
            "\n",
            "Accuracy: 0.8157894736842105\n"
          ]
        }
      ],
      "source": [
        "# Importing the Multi-layer Perceptron classifier\n",
        "from sklearn.neural_network import MLPClassifier\n",
        "from sklearn.metrics import classification_report, accuracy_score\n",
        "\n",
        "# Importing the Multi-layer Perceptron classifier\n",
        "model = MLPClassifier(hidden_layer_sizes=(128, 64), max_iter=300, random_state=42)\n",
        "model.fit(X_train, y_train)\n",
        "\n",
        "y_pred = model.predict(X_test)\n",
        "\n",
        "print(classification_report(y_test, y_pred))\n",
        "print(\"Accuracy:\", accuracy_score(y_test, y_pred))"
      ]
    },
    {
      "cell_type": "code",
      "execution_count": 20,
      "id": "5cNqHaWx4IAW",
      "metadata": {
        "colab": {
          "base_uri": "https://localhost:8080/"
        },
        "id": "5cNqHaWx4IAW",
        "outputId": "73356147-beba-45d7-b269-ea1de9277e9e"
      },
      "outputs": [
        {
          "output_type": "stream",
          "name": "stdout",
          "text": [
            "Shape of data: (190, 151)\n",
            "Column names: Index(['0', '1', '2', '3', '4', '5', '6', '7', '8', '9',\n",
            "       ...\n",
            "       '141', '142', '143', '144', '145', '146', '147', '148', '149', 'Label'],\n",
            "      dtype='object', length=151)\n",
            "          0         1         2         3         4         5         6  \\\n",
            "0 -2.061987  0.581320 -0.249115 -0.631340 -1.359899  0.751619 -0.029364   \n",
            "1 -0.796838 -0.667228 -0.107889  0.019755 -0.686348  0.912779  0.463412   \n",
            "2  5.376779  1.142695  2.543111 -2.727212  0.272785 -0.972187  1.111221   \n",
            "3  7.029235  1.242883 -2.628079  1.224479 -1.141370 -1.620647  0.205890   \n",
            "4  5.484822  6.752706 -4.291114  1.740412 -1.603087 -1.075175  1.919936   \n",
            "\n",
            "          7         8         9  ...       141       142       143       144  \\\n",
            "0  1.610456  0.341402  1.286709  ... -0.356844 -0.016488 -0.228473  0.258134   \n",
            "1 -0.238308 -0.294023  0.215470  ... -0.037243 -0.012105 -0.351285 -0.034968   \n",
            "2  1.645502 -2.556968 -0.648781  ...  0.157441 -0.333875 -0.303720 -0.085975   \n",
            "3  1.567561  0.736200  0.010782  ...  0.051040 -0.068796  0.141841 -0.227999   \n",
            "4 -0.197615  1.030596  1.451936  ...  0.034412  0.265141  0.226000  0.032064   \n",
            "\n",
            "        145       146       147       148       149  Label  \n",
            "0  0.046834  0.135742 -0.068297  0.022038  0.090003      1  \n",
            "1  0.192314 -0.015406 -0.089117  0.023588 -0.019998      1  \n",
            "2  0.171346  0.128577 -0.118262  0.045881 -0.190158      1  \n",
            "3  0.046044  0.013643 -0.125893  0.146396  0.013320      1  \n",
            "4 -0.113654  0.059126 -0.216803  0.025849  0.020456      1  \n",
            "\n",
            "[5 rows x 151 columns]\n",
            "Epoch 1/30\n"
          ]
        },
        {
          "output_type": "stream",
          "name": "stderr",
          "text": [
            "/usr/local/lib/python3.11/dist-packages/keras/src/layers/core/dense.py:87: UserWarning: Do not pass an `input_shape`/`input_dim` argument to a layer. When using Sequential models, prefer using an `Input(shape)` object as the first layer in the model instead.\n",
            "  super().__init__(activity_regularizer=activity_regularizer, **kwargs)\n"
          ]
        },
        {
          "output_type": "stream",
          "name": "stdout",
          "text": [
            "\u001b[1m5/5\u001b[0m \u001b[32m━━━━━━━━━━━━━━━━━━━━\u001b[0m\u001b[37m\u001b[0m \u001b[1m2s\u001b[0m 63ms/step - accuracy: 0.6950 - loss: 0.6613 - val_accuracy: 0.7895 - val_loss: 0.5483\n",
            "Epoch 2/30\n",
            "\u001b[1m5/5\u001b[0m \u001b[32m━━━━━━━━━━━━━━━━━━━━\u001b[0m\u001b[37m\u001b[0m \u001b[1m0s\u001b[0m 19ms/step - accuracy: 0.7745 - loss: 0.4842 - val_accuracy: 0.7895 - val_loss: 0.5503\n",
            "Epoch 3/30\n",
            "\u001b[1m5/5\u001b[0m \u001b[32m━━━━━━━━━━━━━━━━━━━━\u001b[0m\u001b[37m\u001b[0m \u001b[1m0s\u001b[0m 20ms/step - accuracy: 0.8392 - loss: 0.4103 - val_accuracy: 0.7895 - val_loss: 0.5687\n",
            "Epoch 4/30\n",
            "\u001b[1m5/5\u001b[0m \u001b[32m━━━━━━━━━━━━━━━━━━━━\u001b[0m\u001b[37m\u001b[0m \u001b[1m0s\u001b[0m 20ms/step - accuracy: 0.8097 - loss: 0.3743 - val_accuracy: 0.7895 - val_loss: 0.5726\n",
            "Epoch 5/30\n",
            "\u001b[1m5/5\u001b[0m \u001b[32m━━━━━━━━━━━━━━━━━━━━\u001b[0m\u001b[37m\u001b[0m \u001b[1m0s\u001b[0m 19ms/step - accuracy: 0.8327 - loss: 0.3218 - val_accuracy: 0.7895 - val_loss: 0.5701\n",
            "Epoch 6/30\n",
            "\u001b[1m5/5\u001b[0m \u001b[32m━━━━━━━━━━━━━━━━━━━━\u001b[0m\u001b[37m\u001b[0m \u001b[1m0s\u001b[0m 19ms/step - accuracy: 0.8641 - loss: 0.2791 - val_accuracy: 0.7895 - val_loss: 0.5665\n",
            "Epoch 7/30\n",
            "\u001b[1m5/5\u001b[0m \u001b[32m━━━━━━━━━━━━━━━━━━━━\u001b[0m\u001b[37m\u001b[0m \u001b[1m0s\u001b[0m 19ms/step - accuracy: 0.8911 - loss: 0.2824 - val_accuracy: 0.7895 - val_loss: 0.5670\n",
            "Epoch 8/30\n",
            "\u001b[1m5/5\u001b[0m \u001b[32m━━━━━━━━━━━━━━━━━━━━\u001b[0m\u001b[37m\u001b[0m \u001b[1m0s\u001b[0m 19ms/step - accuracy: 0.8868 - loss: 0.2511 - val_accuracy: 0.7895 - val_loss: 0.5724\n",
            "Epoch 9/30\n",
            "\u001b[1m5/5\u001b[0m \u001b[32m━━━━━━━━━━━━━━━━━━━━\u001b[0m\u001b[37m\u001b[0m \u001b[1m0s\u001b[0m 20ms/step - accuracy: 0.9377 - loss: 0.2022 - val_accuracy: 0.7895 - val_loss: 0.5818\n",
            "Epoch 10/30\n",
            "\u001b[1m5/5\u001b[0m \u001b[32m━━━━━━━━━━━━━━━━━━━━\u001b[0m\u001b[37m\u001b[0m \u001b[1m0s\u001b[0m 19ms/step - accuracy: 0.9029 - loss: 0.1992 - val_accuracy: 0.7895 - val_loss: 0.5918\n",
            "Epoch 11/30\n",
            "\u001b[1m5/5\u001b[0m \u001b[32m━━━━━━━━━━━━━━━━━━━━\u001b[0m\u001b[37m\u001b[0m \u001b[1m0s\u001b[0m 20ms/step - accuracy: 0.9499 - loss: 0.2108 - val_accuracy: 0.7895 - val_loss: 0.6096\n",
            "Epoch 12/30\n",
            "\u001b[1m5/5\u001b[0m \u001b[32m━━━━━━━━━━━━━━━━━━━━\u001b[0m\u001b[37m\u001b[0m \u001b[1m0s\u001b[0m 19ms/step - accuracy: 0.9395 - loss: 0.1637 - val_accuracy: 0.7895 - val_loss: 0.6334\n",
            "Epoch 13/30\n",
            "\u001b[1m5/5\u001b[0m \u001b[32m━━━━━━━━━━━━━━━━━━━━\u001b[0m\u001b[37m\u001b[0m \u001b[1m0s\u001b[0m 19ms/step - accuracy: 0.9739 - loss: 0.1249 - val_accuracy: 0.7895 - val_loss: 0.6586\n",
            "Epoch 14/30\n",
            "\u001b[1m5/5\u001b[0m \u001b[32m━━━━━━━━━━━━━━━━━━━━\u001b[0m\u001b[37m\u001b[0m \u001b[1m0s\u001b[0m 28ms/step - accuracy: 0.9652 - loss: 0.1122 - val_accuracy: 0.7895 - val_loss: 0.6867\n",
            "Epoch 15/30\n",
            "\u001b[1m5/5\u001b[0m \u001b[32m━━━━━━━━━━━━━━━━━━━━\u001b[0m\u001b[37m\u001b[0m \u001b[1m0s\u001b[0m 19ms/step - accuracy: 1.0000 - loss: 0.0887 - val_accuracy: 0.7895 - val_loss: 0.7185\n",
            "Epoch 16/30\n",
            "\u001b[1m5/5\u001b[0m \u001b[32m━━━━━━━━━━━━━━━━━━━━\u001b[0m\u001b[37m\u001b[0m \u001b[1m0s\u001b[0m 19ms/step - accuracy: 0.9922 - loss: 0.0684 - val_accuracy: 0.7895 - val_loss: 0.7482\n",
            "Epoch 17/30\n",
            "\u001b[1m5/5\u001b[0m \u001b[32m━━━━━━━━━━━━━━━━━━━━\u001b[0m\u001b[37m\u001b[0m \u001b[1m0s\u001b[0m 18ms/step - accuracy: 0.9843 - loss: 0.0720 - val_accuracy: 0.7895 - val_loss: 0.7709\n",
            "Epoch 18/30\n",
            "\u001b[1m5/5\u001b[0m \u001b[32m━━━━━━━━━━━━━━━━━━━━\u001b[0m\u001b[37m\u001b[0m \u001b[1m0s\u001b[0m 19ms/step - accuracy: 0.9887 - loss: 0.0618 - val_accuracy: 0.7895 - val_loss: 0.7864\n",
            "Epoch 19/30\n",
            "\u001b[1m5/5\u001b[0m \u001b[32m━━━━━━━━━━━━━━━━━━━━\u001b[0m\u001b[37m\u001b[0m \u001b[1m0s\u001b[0m 23ms/step - accuracy: 0.9922 - loss: 0.0487 - val_accuracy: 0.7895 - val_loss: 0.8045\n",
            "Epoch 20/30\n",
            "\u001b[1m5/5\u001b[0m \u001b[32m━━━━━━━━━━━━━━━━━━━━\u001b[0m\u001b[37m\u001b[0m \u001b[1m0s\u001b[0m 19ms/step - accuracy: 1.0000 - loss: 0.0389 - val_accuracy: 0.7895 - val_loss: 0.8236\n",
            "Epoch 21/30\n",
            "\u001b[1m5/5\u001b[0m \u001b[32m━━━━━━━━━━━━━━━━━━━━\u001b[0m\u001b[37m\u001b[0m \u001b[1m0s\u001b[0m 29ms/step - accuracy: 0.9922 - loss: 0.0362 - val_accuracy: 0.7895 - val_loss: 0.8376\n",
            "Epoch 22/30\n",
            "\u001b[1m5/5\u001b[0m \u001b[32m━━━━━━━━━━━━━━━━━━━━\u001b[0m\u001b[37m\u001b[0m \u001b[1m0s\u001b[0m 19ms/step - accuracy: 0.9978 - loss: 0.0402 - val_accuracy: 0.7895 - val_loss: 0.8543\n",
            "Epoch 23/30\n",
            "\u001b[1m5/5\u001b[0m \u001b[32m━━━━━━━━━━━━━━━━━━━━\u001b[0m\u001b[37m\u001b[0m \u001b[1m0s\u001b[0m 28ms/step - accuracy: 1.0000 - loss: 0.0370 - val_accuracy: 0.7895 - val_loss: 0.8835\n",
            "Epoch 24/30\n",
            "\u001b[1m5/5\u001b[0m \u001b[32m━━━━━━━━━━━━━━━━━━━━\u001b[0m\u001b[37m\u001b[0m \u001b[1m0s\u001b[0m 19ms/step - accuracy: 1.0000 - loss: 0.0252 - val_accuracy: 0.7895 - val_loss: 0.9139\n",
            "Epoch 25/30\n",
            "\u001b[1m5/5\u001b[0m \u001b[32m━━━━━━━━━━━━━━━━━━━━\u001b[0m\u001b[37m\u001b[0m \u001b[1m0s\u001b[0m 18ms/step - accuracy: 0.9870 - loss: 0.0412 - val_accuracy: 0.7895 - val_loss: 0.9286\n",
            "Epoch 26/30\n",
            "\u001b[1m5/5\u001b[0m \u001b[32m━━━━━━━━━━━━━━━━━━━━\u001b[0m\u001b[37m\u001b[0m \u001b[1m0s\u001b[0m 18ms/step - accuracy: 1.0000 - loss: 0.0234 - val_accuracy: 0.7895 - val_loss: 0.9395\n",
            "Epoch 27/30\n",
            "\u001b[1m5/5\u001b[0m \u001b[32m━━━━━━━━━━━━━━━━━━━━\u001b[0m\u001b[37m\u001b[0m \u001b[1m0s\u001b[0m 22ms/step - accuracy: 1.0000 - loss: 0.0152 - val_accuracy: 0.7895 - val_loss: 0.9498\n",
            "Epoch 28/30\n",
            "\u001b[1m5/5\u001b[0m \u001b[32m━━━━━━━━━━━━━━━━━━━━\u001b[0m\u001b[37m\u001b[0m \u001b[1m0s\u001b[0m 18ms/step - accuracy: 1.0000 - loss: 0.0174 - val_accuracy: 0.7895 - val_loss: 0.9621\n",
            "Epoch 29/30\n",
            "\u001b[1m5/5\u001b[0m \u001b[32m━━━━━━━━━━━━━━━━━━━━\u001b[0m\u001b[37m\u001b[0m \u001b[1m0s\u001b[0m 19ms/step - accuracy: 1.0000 - loss: 0.0157 - val_accuracy: 0.7895 - val_loss: 0.9828\n",
            "Epoch 30/30\n",
            "\u001b[1m5/5\u001b[0m \u001b[32m━━━━━━━━━━━━━━━━━━━━\u001b[0m\u001b[37m\u001b[0m \u001b[1m0s\u001b[0m 18ms/step - accuracy: 1.0000 - loss: 0.0184 - val_accuracy: 0.7895 - val_loss: 1.0036\n",
            "\u001b[1m2/2\u001b[0m \u001b[32m━━━━━━━━━━━━━━━━━━━━\u001b[0m\u001b[37m\u001b[0m \u001b[1m0s\u001b[0m 51ms/step\n"
          ]
        },
        {
          "output_type": "stream",
          "name": "stderr",
          "text": [
            "/usr/local/lib/python3.11/dist-packages/sklearn/metrics/_classification.py:1565: UndefinedMetricWarning: Precision is ill-defined and being set to 0.0 in labels with no predicted samples. Use `zero_division` parameter to control this behavior.\n",
            "  _warn_prf(average, modifier, f\"{metric.capitalize()} is\", len(result))\n",
            "/usr/local/lib/python3.11/dist-packages/sklearn/metrics/_classification.py:1565: UndefinedMetricWarning: Precision is ill-defined and being set to 0.0 in labels with no predicted samples. Use `zero_division` parameter to control this behavior.\n",
            "  _warn_prf(average, modifier, f\"{metric.capitalize()} is\", len(result))\n",
            "/usr/local/lib/python3.11/dist-packages/sklearn/metrics/_classification.py:1565: UndefinedMetricWarning: Precision is ill-defined and being set to 0.0 in labels with no predicted samples. Use `zero_division` parameter to control this behavior.\n",
            "  _warn_prf(average, modifier, f\"{metric.capitalize()} is\", len(result))\n",
            "WARNING:absl:You are saving your model as an HDF5 file via `model.save()` or `keras.saving.save_model(model)`. This file format is considered legacy. We recommend using instead the native Keras format, e.g. `model.save('my_model.keras')` or `keras.saving.save_model(model, 'my_model.keras')`. \n"
          ]
        },
        {
          "output_type": "stream",
          "name": "stdout",
          "text": [
            "\n",
            "Classification Report:\n",
            "               precision    recall  f1-score   support\n",
            "\n",
            "           0       0.79      1.00      0.88        30\n",
            "           1       0.00      0.00      0.00         8\n",
            "\n",
            "    accuracy                           0.79        38\n",
            "   macro avg       0.39      0.50      0.44        38\n",
            "weighted avg       0.62      0.79      0.70        38\n",
            "\n",
            "Confusion Matrix:\n",
            " [[30  0]\n",
            " [ 8  0]]\n"
          ]
        }
      ],
      "source": [
        "# Step 1: Import libraries\n",
        "import pandas as pd\n",
        "import numpy as np\n",
        "# Splitting the dataset into training and testing sets\n",
        "from sklearn.model_selection import train_test_split\n",
        "from sklearn.preprocessing import StandardScaler\n",
        "from sklearn.metrics import classification_report, confusion_matrix\n",
        "import tensorflow as tf\n",
        "from tensorflow.keras.models import Sequential\n",
        "from tensorflow.keras.layers import Dense, Dropout\n",
        "\n",
        "# Step 2: Load the dataset\n",
        "df = pd.read_csv('lfw_arnie_nonarnie.csv')  # Replace with actual path if different\n",
        "\n",
        "# Step 3: Understand the structure\n",
        "print(\"Shape of data:\", df.shape)\n",
        "print(\"Column names:\", df.columns)\n",
        "print(df.head())\n",
        "\n",
        "# Step 4: Split features and target\n",
        "X = df.drop('Label', axis=1)\n",
        "y = df['Label']\n",
        "\n",
        "# Step 5: Train-test split\n",
        "# Splitting the dataset into training and testing sets\n",
        "X_train, X_test, y_train, y_test = train_test_split(X, y,\n",
        "                                                    test_size=0.2,\n",
        "                                                    random_state=42,\n",
        "                                                    stratify=y)\n",
        "\n",
        "# Step 6: Normalize features\n",
        "scaler = StandardScaler()\n",
        "X_train = scaler.fit_transform(X_train)\n",
        "X_test = scaler.transform(X_test)\n",
        "\n",
        "# Step 7: Build Neural Network model\n",
        "model = Sequential([\n",
        "    Dense(128, input_shape=(X_train.shape[1],), activation='relu'),\n",
        "    Dropout(0.3),\n",
        "    Dense(64, activation='relu'),\n",
        "    Dropout(0.3),\n",
        "    Dense(1, activation='sigmoid')  # For binary classification\n",
        "])\n",
        "\n",
        "# Step 8: Compile the model\n",
        "model.compile(optimizer='adam',\n",
        "              loss='binary_crossentropy',\n",
        "              metrics=['accuracy'])\n",
        "\n",
        "# Step 9: Train the model\n",
        "history = model.fit(X_train, y_train,\n",
        "                    validation_data=(X_test, y_test),\n",
        "                    epochs=30,\n",
        "                    batch_size=32)\n",
        "\n",
        "# Step 10: Evaluate the model\n",
        "y_pred = (model.predict(X_test) > 0.5).astype(\"int32\")\n",
        "\n",
        "print(\"\\nClassification Report:\\n\", classification_report(y_test, y_pred))\n",
        "print(\"Confusion Matrix:\\n\", confusion_matrix(y_test, y_pred))\n",
        "\n",
        "# Optional: Save model\n",
        "model.save('classification_model.h5')"
      ]
    },
    {
      "cell_type": "markdown",
      "id": "d3be8dc9",
      "metadata": {
        "id": "d3be8dc9"
      },
      "source": [
        "# 📊 Step 3: Visualizing Model Accuracy"
      ]
    },
    {
      "cell_type": "code",
      "execution_count": 21,
      "id": "DRImUR014GQM",
      "metadata": {
        "colab": {
          "base_uri": "https://localhost:8080/",
          "height": 927
        },
        "id": "DRImUR014GQM",
        "outputId": "2f032873-4035-468d-c6a1-c3881a4668a3"
      },
      "outputs": [
        {
          "output_type": "display_data",
          "data": {
            "text/plain": [
              "<Figure size 640x480 with 1 Axes>"
            ],
            "image/png": "[encoded data removed]"
          },
          "metadata": {}
        },
        {
          "output_type": "display_data",
          "data": {
            "text/plain": [
              "<Figure size 640x480 with 1 Axes>"
            ],
            "image/png": "[encoded data removed]"
          },
          "metadata": {}
        }
      ],
      "source": [
        "import matplotlib.pyplot as plt\n",
        "\n",
        "# Accuracy plot\n",
        "# Plotting accuracy over epochs\n",
        "plt.plot(history.history['accuracy'], label='Train Acc')\n",
        "# Plotting accuracy over epochs\n",
        "plt.plot(history.history['val_accuracy'], label='Val Acc')\n",
        "plt.title('Model Accuracy')\n",
        "plt.xlabel('Epoch')\n",
        "plt.ylabel('Accuracy')\n",
        "plt.legend()\n",
        "plt.show()\n",
        "\n",
        "# Loss plot\n",
        "# Plotting accuracy over epochs\n",
        "plt.plot(history.history['loss'], label='Train Loss')\n",
        "# Plotting accuracy over epochs\n",
        "plt.plot(history.history['val_loss'], label='Val Loss')\n",
        "plt.title('Model Loss')\n",
        "plt.xlabel('Epoch')\n",
        "plt.ylabel('Loss')\n",
        "plt.legend()\n",
        "plt.show()"
      ]
    },
    {
      "cell_type": "code",
      "source": [
        "# Save as app.py and run: streamlit run app.py\n",
        "import streamlit as st\n",
        "from PIL import Image\n",
        "import numpy as np\n",
        "import tensorflow as tf\n",
        "\n",
        "model = tf.keras.models.load_model('/content/classification_model.h5')\n",
        "\n",
        "st.title(\"Employee Face Recognition\")\n",
        "\n",
        "uploaded_file = st.file_uploader(\"Upload a Face Image\")\n",
        "\n",
        "if uploaded_file:\n",
        "    image = Image.open(uploaded_file).resize((224,224))\n",
        "    img_array = np.array(image)/255.0\n",
        "    prediction = model.predict(img_array.reshape(1, 224, 224, 3))\n",
        "    label = np.argmax(prediction)\n",
        "    confidence = np.max(prediction)\n",
        "    st.image(image)\n",
        "    st.success(f\"Prediction: Class {label} (Confidence: {confidence:.2f})\")\n"
      ],
      "metadata": {
        "colab": {
          "base_uri": "https://localhost:8080/"
        },
        "id": "Z2K9iHESLiGE",
        "outputId": "132abfcf-ee91-42a4-bcfc-edafbabf1326"
      },
      "id": "Z2K9iHESLiGE",
      "execution_count": 24,
      "outputs": [
        {
          "output_type": "stream",
          "name": "stderr",
          "text": [
            "WARNING:absl:Compiled the loaded model, but the compiled metrics have yet to be built. `model.compile_metrics` will be empty until you train or evaluate the model.\n",
            "2025-06-20 18:34:44.614 WARNING streamlit.runtime.scriptrunner_utils.script_run_context: Thread 'MainThread': missing ScriptRunContext! This warning can be ignored when running in bare mode.\n",
            "2025-06-20 18:34:44.984 \n",
            "  \u001b[33m\u001b[1mWarning:\u001b[0m to view this Streamlit app on a browser, run it with the following\n",
            "  command:\n",
            "\n",
            "    streamlit run /usr/local/lib/python3.11/dist-packages/colab_kernel_launcher.py [ARGUMENTS]\n",
            "2025-06-20 18:34:44.985 Thread 'MainThread': missing ScriptRunContext! This warning can be ignored when running in bare mode.\n",
            "2025-06-20 18:34:44.988 Thread 'MainThread': missing ScriptRunContext! This warning can be ignored when running in bare mode.\n",
            "2025-06-20 18:34:44.990 Thread 'MainThread': missing ScriptRunContext! This warning can be ignored when running in bare mode.\n",
            "2025-06-20 18:34:44.993 Thread 'MainThread': missing ScriptRunContext! This warning can be ignored when running in bare mode.\n",
            "2025-06-20 18:34:44.996 Thread 'MainThread': missing ScriptRunContext! This warning can be ignored when running in bare mode.\n",
            "2025-06-20 18:34:44.998 Thread 'MainThread': missing ScriptRunContext! This warning can be ignored when running in bare mode.\n",
            "2025-06-20 18:34:45.000 Thread 'MainThread': missing ScriptRunContext! This warning can be ignored when running in bare mode.\n",
            "2025-06-20 18:34:45.001 Thread 'MainThread': missing ScriptRunContext! This warning can be ignored when running in bare mode.\n"
          ]
        }
      ]
    },
    {
      "cell_type": "code",
      "source": [],
      "metadata": {
        "id": "ynu0wV70mtQC"
      },
      "id": "ynu0wV70mtQC",
      "execution_count": 24,
      "outputs": []
    }
  ],
  "metadata": {
    "colab": {
      "provenance": []
    },
    "kernelspec": {
      "display_name": "Python 3",
      "language": "python",
      "name": "python3"
    },
    "language_info": {
      "codemirror_mode": {
        "name": "ipython",
        "version": 3
      },
      "file_extension": ".py",
      "mimetype": "text/x-python",
      "name": "python",
      "nbconvert_exporter": "python",
      "pygments_lexer": "ipython3",
      "version": "3.13.3"
    }
  },
  "nbformat": 4,
  "nbformat_minor": 5
}